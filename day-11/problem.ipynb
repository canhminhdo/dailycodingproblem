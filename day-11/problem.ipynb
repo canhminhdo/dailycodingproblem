{
 "cells": [
  {
   "cell_type": "markdown",
   "metadata": {},
   "source": [
    "## This problem was asked by Twitter. [Medium]\n",
    "\n",
    "Implement an autocomplete system. That is, given a query string s and a set of all possible query strings, return all strings in the set that have s as a prefix.\n",
    "\n",
    "For example, given the query string de and the set of strings [dog, deer, deal], return [deer, deal].\n",
    "\n",
    "Hint: Try preprocessing the dictionary into a more efficient data structure to speed up queries."
   ]
  },
  {
   "cell_type": "code",
   "execution_count": 38,
   "metadata": {},
   "outputs": [
    {
     "name": "stdout",
     "output_type": "stream",
     "text": [
      "['deal', 'deer', 'dog']\n",
      "['deal', 'deer']\n"
     ]
    }
   ],
   "source": [
    "strings = {\"dog\", \"deer\", \"deal\"}\n",
    "\n",
    "dict = {}\n",
    "def buildDict(words):\n",
    "    global dict\n",
    "    tmpDict = dict\n",
    "    for i in range(len(words)):\n",
    "        if words[i] not in tmpDict:\n",
    "            tmpDict[words[i]] = {}\n",
    "        tmpDict = tmpDict[words[i]]\n",
    "\n",
    "for x in strings:\n",
    "    buildDict(x)\n",
    "\n",
    "def autocomplete(query=None):\n",
    "    global dict\n",
    "    if query is None:\n",
    "        return traverse('', dict, [])\n",
    "    \n",
    "    tmpDict = dict\n",
    "    for i in range(len(query)):\n",
    "        if query[i] not in tmpDict:\n",
    "            return []\n",
    "        tmpDict = tmpDict[query[i]]\n",
    "    return traverse(query, tmpDict, [])\n",
    "\n",
    "def traverse(prefix, tmpDict, lst):\n",
    "    if not tmpDict:\n",
    "        lst.append(prefix)\n",
    "        return lst\n",
    "    for k, v in tmpDict.items():\n",
    "        lst = traverse(prefix + k, v, lst)\n",
    "    return lst\n",
    "\n",
    "\n",
    "print(autocomplete())\n",
    "print(autocomplete('de'))"
   ]
  }
 ],
 "metadata": {
  "kernelspec": {
   "display_name": "Python 3",
   "language": "python",
   "name": "python3"
  },
  "language_info": {
   "codemirror_mode": {
    "name": "ipython",
    "version": 3
   },
   "file_extension": ".py",
   "mimetype": "text/x-python",
   "name": "python",
   "nbconvert_exporter": "python",
   "pygments_lexer": "ipython3",
   "version": "3.7.6"
  }
 },
 "nbformat": 4,
 "nbformat_minor": 4
}
