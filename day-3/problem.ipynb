{
 "cells": [
  {
   "cell_type": "code",
   "execution_count": 81,
   "metadata": {},
   "outputs": [],
   "source": [
    "import json\n",
    "\n",
    "class Node:\n",
    "    def __init__(self, val, left=None, right=None):\n",
    "        self.val = val\n",
    "        self.left = left\n",
    "        self.right = right\n",
    "\n",
    "def serialize(node):\n",
    "    def serializeToJson(node):\n",
    "        if node is None:\n",
    "            return None\n",
    "        return {\"val\": node.val, \"left\": serializeToJson(node.left), \"right\": serializeToJson(node.right)}\n",
    "    return json.dumps(serializeToJson(node))\n",
    "    \n",
    "def deserialize(str):\n",
    "    def deserializeJson(dict):\n",
    "        if dict is None:\n",
    "            return None\n",
    "        return Node(dict['val'], unserializeJson(dict['left']), unserializeJson(dict['right']))\n",
    "\n",
    "    if str == \"null\":\n",
    "        return None\n",
    "    dict = json.loads(str)\n",
    "    return unserializeJson(dict)\n",
    "\n",
    "node = Node('root', Node('left', Node('left.left')), Node('right'))\n",
    "\n",
    "assert deserialize(serialize(None)) is None\n",
    "assert deserialize(serialize(node)).left.left.val == 'left.left'"
   ]
  }
 ],
 "metadata": {
  "kernelspec": {
   "display_name": "Python 3",
   "language": "python",
   "name": "python3"
  },
  "language_info": {
   "codemirror_mode": {
    "name": "ipython",
    "version": 3
   },
   "file_extension": ".py",
   "mimetype": "text/x-python",
   "name": "python",
   "nbconvert_exporter": "python",
   "pygments_lexer": "ipython3",
   "version": "3.7.6"
  }
 },
 "nbformat": 4,
 "nbformat_minor": 4
}
