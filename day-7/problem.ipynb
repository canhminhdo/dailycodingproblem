{
 "cells": [
  {
   "cell_type": "markdown",
   "metadata": {},
   "source": [
    "## This problem was asked by Facebook.\n",
    "\n",
    "Given the mapping a = 1, b = 2, ... z = 26, and an encoded message, count the number of ways it can be decoded.\n",
    "\n",
    "For example, the message '111' would give 3, since it could be decoded as 'aaa', 'ka', and 'ak'.\n",
    "\n",
    "You can assume that the messages are decodable. For example, '001' is not allowed."
   ]
  },
  {
   "cell_type": "code",
   "execution_count": 60,
   "metadata": {},
   "outputs": [
    {
     "name": "stdout",
     "output_type": "stream",
     "text": [
      "aaa\n",
      "ak\n",
      "ka\n",
      "3\n"
     ]
    }
   ],
   "source": [
    "m = {}\n",
    "for i in range(26):\n",
    "    m[(i + 1)] = chr(i + 97)\n",
    "\n",
    "input = '111'\n",
    "count = 0\n",
    "\n",
    "def find(i, output, prev):\n",
    "    if i == 0:\n",
    "        output = m[int(input[i])]\n",
    "        find(i + 1, output, input[i])\n",
    "        return\n",
    "    if i < len(input):\n",
    "        find(i + 1, output + m[int(input[i])], input[i])\n",
    "        if int(prev + input[i]) <= 26:\n",
    "            find(i + 1, output[:-1] + m[int(input[i-1] + input[i])], input[i-1] + input[i])\n",
    "    else:\n",
    "        global count\n",
    "        count = count + 1\n",
    "        # print ouput\n",
    "        print(output)\n",
    "\n",
    "find(0, '', '')\n",
    "print(count)"
   ]
  }
 ],
 "metadata": {
  "kernelspec": {
   "display_name": "Python 3",
   "language": "python",
   "name": "python3"
  },
  "language_info": {
   "codemirror_mode": {
    "name": "ipython",
    "version": 3
   },
   "file_extension": ".py",
   "mimetype": "text/x-python",
   "name": "python",
   "nbconvert_exporter": "python",
   "pygments_lexer": "ipython3",
   "version": "3.7.6"
  }
 },
 "nbformat": 4,
 "nbformat_minor": 4
}
