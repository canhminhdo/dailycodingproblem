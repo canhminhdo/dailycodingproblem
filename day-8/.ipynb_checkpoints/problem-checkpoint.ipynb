{
 "cells": [
  {
   "cell_type": "markdown",
   "metadata": {},
   "source": [
    "## This problem was asked by Google.\n",
    "\n",
    "A unival tree (which stands for \"universal value\") is a tree where all nodes under it have the same value.\n",
    "\n",
    "Given the root to a binary tree, count the number of unival subtrees.\n",
    "\n",
    "For example, the following tree has 5 unival subtrees:\n",
    "\n",
    "   0\n",
    "  / \\\n",
    " 1   0\n",
    "    / \\\n",
    "   1   0\n",
    "  / \\\n",
    " 1   1\n",
    " "
   ]
  },
  {
   "cell_type": "code",
   "execution_count": 8,
   "metadata": {},
   "outputs": [
    {
     "name": "stdout",
     "output_type": "stream",
     "text": [
      "5\n"
     ]
    }
   ],
   "source": [
    "class Node:\n",
    "    def __init__(self, val, left=None, right=None):\n",
    "        self.val = val\n",
    "        self.left = left\n",
    "        self.right = right\n",
    "\n",
    "node1 = Node(1)\n",
    "node2 = Node(1)\n",
    "node3 = Node(1, node1, node2)\n",
    "node4 = Node(0)\n",
    "node5 = Node(0, node3, node4)\n",
    "node6 = Node(1)\n",
    "root = Node(0, node6, node5)\n",
    "\n",
    "count = 0\n",
    "def find(node):\n",
    "    global count\n",
    "    if node is None:\n",
    "        return True\n",
    "    \n",
    "    if find(node.left) and find(node.right):   \n",
    "        if node.left is None and node.right is None:\n",
    "            count = count + 1\n",
    "            return True\n",
    "        \n",
    "        if node.left is not None and node.right is None:\n",
    "            count = count + 1\n",
    "            return node.val == node.left.val\n",
    "            \n",
    "        if node.left is None and node.right is not None:\n",
    "            count = count + 1\n",
    "            return node.right.val == node.val\n",
    "        \n",
    "        if node.left is not None and node.right is not None and node.left.val == node.right.val:\n",
    "            count = count + 1\n",
    "            return node.val == node.left.val\n",
    "        \n",
    "    return False\n",
    "\n",
    "find(root)\n",
    "print(count)"
   ]
  }
 ],
 "metadata": {
  "kernelspec": {
   "display_name": "Python 3",
   "language": "python",
   "name": "python3"
  },
  "language_info": {
   "codemirror_mode": {
    "name": "ipython",
    "version": 3
   },
   "file_extension": ".py",
   "mimetype": "text/x-python",
   "name": "python",
   "nbconvert_exporter": "python",
   "pygments_lexer": "ipython3",
   "version": "3.7.6"
  }
 },
 "nbformat": 4,
 "nbformat_minor": 4
}
