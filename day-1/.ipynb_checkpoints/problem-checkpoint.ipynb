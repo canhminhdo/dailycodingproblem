{
 "cells": [
  {
   "cell_type": "markdown",
   "metadata": {},
   "source": [
    "## This problem was recently asked by Google.\n",
    "\n",
    "Given a list of numbers and a number k, return whether any two numbers from the list add up to k.\n",
    "\n",
    "For example, given [10, 15, 3, 7] and k of 17, return true since 10 + 7 is 17.\n",
    "\n",
    "Bonus: Can you do this in one pass?"
   ]
  },
  {
   "cell_type": "markdown",
   "metadata": {},
   "source": [
    "# Using hashtable\n",
    "Time Complexity: O(n)\n",
    "Space Complexity: O(n)"
   ]
  },
  {
   "cell_type": "code",
   "execution_count": 12,
   "metadata": {},
   "outputs": [
    {
     "name": "stdout",
     "output_type": "stream",
     "text": [
      "1st index 2, value 3\n",
      "2nd index 1, value 15\n"
     ]
    }
   ],
   "source": [
    "arr = [10, 15, 3, 7]\n",
    "sum = 18\n",
    "dict = {}\n",
    "for i in range(len(arr)):\n",
    "    remaining = sum - arr[i]\n",
    "    if remaining in dict:\n",
    "        print(\"1st index {}, value {}\".format(i, arr[i]))\n",
    "        print(\"2nd index {}, value {}\".format(dict[remaining], remaining))\n",
    "        break;\n",
    "    else:\n",
    "        dict[arr[i]] = i"
   ]
  },
  {
   "cell_type": "markdown",
   "metadata": {},
   "source": [
    "## Sort before finding"
   ]
  },
  {
   "cell_type": "code",
   "execution_count": 1,
   "metadata": {},
   "outputs": [
    {
     "name": "stdout",
     "output_type": "stream",
     "text": [
      "Found: 7 - 10\n"
     ]
    }
   ],
   "source": [
    "def quicksort(arr):\n",
    "    if len(arr) <= 1:\n",
    "        return arr\n",
    "    pivot = arr[len(arr) // 2]\n",
    "    left = [x for x in arr if x < pivot]\n",
    "    middle = [x for x in arr if x == pivot]\n",
    "    right = [x for x in arr if x > pivot]\n",
    "    return quicksort(left) + middle + quicksort(right)\n",
    "\n",
    "arr = [10, 15, 3, 7]\n",
    "sum = 17\n",
    "\n",
    "def find(arr, sum):\n",
    "    if len(arr) <= 1:\n",
    "        print(\"Cannot find\")\n",
    "        return\n",
    "    for i in range(1, len(arr)):\n",
    "        if (arr[i - 1] + arr[i] == sum):\n",
    "            print(\"Found: %d - %d\" %(arr[i - 1], arr[i]))\n",
    "            return\n",
    "        \n",
    "    print(\"Cannot find\")\n",
    "    \n",
    "find(quicksort(arr), 17)"
   ]
  },
  {
   "cell_type": "markdown",
   "metadata": {},
   "source": [
    "## Naive finding"
   ]
  },
  {
   "cell_type": "code",
   "execution_count": 2,
   "metadata": {},
   "outputs": [
    {
     "name": "stdout",
     "output_type": "stream",
     "text": [
      "Found: 7 - 10\n"
     ]
    }
   ],
   "source": [
    "def find(arr, sum):\n",
    "    if len(arr) <= 1:\n",
    "        print(\"Cannot find\")\n",
    "        return\n",
    "    for i in range(0, len(arr) - 1):\n",
    "        for j in range(i + 1, len(arr)):\n",
    "            if (arr[i] + arr[j] == sum):\n",
    "                print(\"Found: %d - %d\" %(arr[i - 1], arr[i]))\n",
    "                return\n",
    "    print(\"Cannot find\")\n",
    "\n",
    "arr = [10, 15, 3, 7]\n",
    "sum = 17\n",
    "find(arr, sum)"
   ]
  }
 ],
 "metadata": {
  "kernelspec": {
   "display_name": "Python 3",
   "language": "python",
   "name": "python3"
  },
  "language_info": {
   "codemirror_mode": {
    "name": "ipython",
    "version": 3
   },
   "file_extension": ".py",
   "mimetype": "text/x-python",
   "name": "python",
   "nbconvert_exporter": "python",
   "pygments_lexer": "ipython3",
   "version": "3.7.6"
  }
 },
 "nbformat": 4,
 "nbformat_minor": 4
}
