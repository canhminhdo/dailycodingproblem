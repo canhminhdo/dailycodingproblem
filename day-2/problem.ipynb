{
 "cells": [
  {
   "cell_type": "markdown",
   "metadata": {},
   "source": [
    "## This problem was asked by Uber.\n",
    "\n",
    "Given an array of integers, return a new array such that each element at index i of the new array is the product of all the numbers in the original array except the one at i.\n",
    "\n",
    "For example, if our input was [1, 2, 3, 4, 5], the expected output would be [120, 60, 40, 30, 24]. If our input was [3, 2, 1], the expected output would be [2, 3, 6].\n",
    "\n",
    "Follow-up: what if you can't use division?"
   ]
  },
  {
   "cell_type": "code",
   "execution_count": 40,
   "metadata": {},
   "outputs": [],
   "source": [
    "from functools import reduce\n",
    "\n",
    "# input\n",
    "arr = [1, 2, 3, 4, 5]\n",
    "\n",
    "# calculation\n",
    "prod = reduce(lambda x, y: x * y, arr)\n",
    "def arr_prod(arr, prod) :\n",
    "    return [prod // x for x in arr]"
   ]
  },
  {
   "cell_type": "code",
   "execution_count": 43,
   "metadata": {},
   "outputs": [],
   "source": [
    "import unittest\n",
    "\n",
    "class TestFuncs(unittest.TestCase): \n",
    "    def __init__(self):\n",
    "        self.expected = [120, 60, 40, 30, 24]\n",
    "        self.result = arr_prod(arr, prod)\n",
    "\n",
    "    def test_result(self):\n",
    "        self.assertListEqual(self.result, self.expected, \"2 lists are not equal\")\n",
    "        print(self.result)"
   ]
  },
  {
   "cell_type": "code",
   "execution_count": 44,
   "metadata": {},
   "outputs": [
    {
     "name": "stdout",
     "output_type": "stream",
     "text": [
      "[120, 60, 40, 30, 24]\n"
     ]
    }
   ],
   "source": [
    "myTest = TestFuncs()\n",
    "myTest.test_result()"
   ]
  },
  {
   "cell_type": "markdown",
   "metadata": {},
   "source": [
    "## Extra"
   ]
  },
  {
   "cell_type": "code",
   "execution_count": 60,
   "metadata": {},
   "outputs": [
    {
     "name": "stdout",
     "output_type": "stream",
     "text": [
      "[(10, 0, 0), (9, 1, 0), (17, 2, 0)]\n",
      "[9, 10, 15, 15, 17, 20, 20, 30, 32]\n"
     ]
    }
   ],
   "source": [
    "import heapq\n",
    "\n",
    "lists = [[10, 15, 30], [9, 15, 20], [17, 20, 32]]\n",
    "\n",
    "def merge(lists):\n",
    "    merged_list = []\n",
    "    \n",
    "    heap = [(lst[0], i, 0) for i, lst in enumerate(lists) if lst]\n",
    "    print(heap)\n",
    "    heapq.heapify(heap)\n",
    "    \n",
    "    while heap:\n",
    "        val, list_ind, element_ind = heapq.heappop(heap)\n",
    "        merged_list.append(val)\n",
    "        \n",
    "        if element_ind + 1 < len(lists[list_ind]):\n",
    "            next_tuple = (lists[list_ind][element_ind + 1], list_ind, element_ind + 1)\n",
    "            heapq.heappush(heap, next_tuple)\n",
    "        \n",
    "    return merged_list\n",
    "\n",
    "print(merge(lists))"
   ]
  },
  {
   "cell_type": "code",
   "execution_count": 69,
   "metadata": {},
   "outputs": [
    {
     "name": "stdout",
     "output_type": "stream",
     "text": [
      "[]\n",
      "[]\n",
      "[(1, 1, 0), (1, 2, 0)]\n",
      "[(1, 0, 0), (1, 1, 0), (1, 2, 0)]\n"
     ]
    }
   ],
   "source": [
    "class TestKSorted(unittest.TestCase): \n",
    "    \n",
    "    def test_empty_lists(self):\n",
    "        input = []\n",
    "        expected = []\n",
    "        self.assertListEqual(merge(input), expected, \"Empty lists\")\n",
    "    \n",
    "    def test_empty_list(self):\n",
    "        input = [[], [], []]\n",
    "        expected = []\n",
    "        self.assertListEqual(merge(input), expected, \"Empty all list\")\n",
    "    \n",
    "    def test_one_empty_list(self):\n",
    "        input = [[], [1], [1, 2]]\n",
    "        expected = [1, 1, 2]\n",
    "        self.assertListEqual(merge(input), expected, \"Empty one list\")\n",
    "        \n",
    "    def test_one_list(self):\n",
    "        input = [[1]]\n",
    "        expected = [1]\n",
    "        self.assertListEqual(merge(input), expected, \"Only one list\")\n",
    "    \n",
    "    def test_vary_lists(self):\n",
    "        input = [[1], [1, 3, 5], [1, 10, 20, 30, 40]]\n",
    "        expected = [1, 1, 1, 3, 5, 10, 20, 30, 40]\n",
    "        self.assertListEqual(merge(input), expected, \"vary lists\")\n",
    "\n",
    "testKSorted = TestKSorted()\n",
    "testKSorted.test_empty_lists()\n",
    "testKSorted.test_empty_list()\n",
    "testKSorted.test_one_empty_list()\n",
    "testKSorted.test_vary_lists()"
   ]
  }
 ],
 "metadata": {
  "kernelspec": {
   "display_name": "Python 3",
   "language": "python",
   "name": "python3"
  },
  "language_info": {
   "codemirror_mode": {
    "name": "ipython",
    "version": 3
   },
   "file_extension": ".py",
   "mimetype": "text/x-python",
   "name": "python",
   "nbconvert_exporter": "python",
   "pygments_lexer": "ipython3",
   "version": "3.7.6"
  }
 },
 "nbformat": 4,
 "nbformat_minor": 4
}
