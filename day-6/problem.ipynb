{
 "cells": [
  {
   "cell_type": "markdown",
   "metadata": {},
   "source": [
    "## This problem was asked by Google.\n",
    "\n",
    "An XOR linked list is a more memory efficient doubly linked list. Instead of each node holding next and prev fields, it holds a field named both, which is an XOR of the next node and the previous node. Implement an XOR linked list; it has an add(element) which adds the element to the end, and a get(index) which returns the node at index.\n",
    "\n",
    "If using a language that has no pointers (such as Python), you can assume you have access to get_pointer and dereference_pointer functions that converts between nodes and memory addresses."
   ]
  },
  {
   "cell_type": "code",
   "execution_count": null,
   "metadata": {},
   "outputs": [],
   "source": [
    "class Node():\n",
    "    def __init__(self):\n",
    "        self.both = 0\n",
    "    \n",
    "    def set_prev(self, prev=None):\n",
    "        if prev is None:\n",
    "            return\n",
    "        prevPointer = get_pointer(prev)\n",
    "        self.both = self.both ^ prevPointer\n",
    "        \n",
    "    def set_next(self, next=None):\n",
    "        if next is None:\n",
    "            return\n",
    "        \n",
    "        nextPointer = get_pointer(next)\n",
    "        self.both = self.both ^ nextPointer\n",
    "        next.set_prev(self)\n",
    "        \n",
    "    def get_next(self, prevPointer):\n",
    "        dereference_pointer(self.both ^ prevPointer)\n",
    "        \n",
    "    def get_prev(self, nextPointer):\n",
    "        dereference_pointer(self.both ^ nextPointer)\n",
    "        \n",
    "\n",
    "class XORLinkedList:\n",
    "\n",
    "    def __init(self, root=None):\n",
    "        self.root = root\n",
    "    \n",
    "    def add(self, node=None):\n",
    "        if self.root is None:\n",
    "            self.root = node\n",
    "        else\n",
    "            self.root.set_next(node)\n",
    "    \n",
    "    def get(index):\n",
    "        count = 0\n",
    "        prevPointer = 0\n",
    "        node = self.root\n",
    "        while count < index:\n",
    "            node = node.get_next(prevPointer)\n",
    "            prevPointer = get_pointer(node)\n",
    "            count ++\n",
    "        return node\n",
    "        \n",
    "A = Node()\n",
    "B = Node()\n",
    "C = Node()\n",
    "\n",
    "list = XORLinkedList()\n",
    "list.add(A)\n",
    "list.add(B)\n",
    "list.add(C)\n",
    "\n",
    "list.get(0)\n",
    "list.get(1)\n",
    "list.get(2)"
   ]
  }
 ],
 "metadata": {
  "kernelspec": {
   "display_name": "Python 3",
   "language": "python",
   "name": "python3"
  },
  "language_info": {
   "codemirror_mode": {
    "name": "ipython",
    "version": 3
   },
   "file_extension": ".py",
   "mimetype": "text/x-python",
   "name": "python",
   "nbconvert_exporter": "python",
   "pygments_lexer": "ipython3",
   "version": "3.7.6"
  }
 },
 "nbformat": 4,
 "nbformat_minor": 4
}
