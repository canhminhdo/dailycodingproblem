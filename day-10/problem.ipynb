{
 "cells": [
  {
   "cell_type": "markdown",
   "metadata": {},
   "source": [
    "## This problem was asked by Apple. [Medium]\n",
    "\n",
    "Implement a job scheduler which takes in a function f and an integer n, and calls f after n milliseconds."
   ]
  },
  {
   "cell_type": "code",
   "execution_count": 24,
   "metadata": {},
   "outputs": [
    {
     "name": "stdout",
     "output_type": "stream",
     "text": [
      "Test 1\n",
      "Test 2\n"
     ]
    }
   ],
   "source": [
    "import threading, time\n",
    "\n",
    "def handler(f, n):\n",
    "    time.sleep(n)\n",
    "    f()\n",
    "    \n",
    "def scheduler(f, n):\n",
    "    t1 = threading.Thread(target=handler, args=[f, n])\n",
    "    t1.start()\n",
    "\n",
    "def test1():\n",
    "    print(\"Test 1\")\n",
    "\n",
    "def test2():\n",
    "    print(\"Test 2\")\n",
    "    \n",
    "scheduler(test1, 1)\n",
    "scheduler(test2, 1)"
   ]
  }
 ],
 "metadata": {
  "kernelspec": {
   "display_name": "Python 3",
   "language": "python",
   "name": "python3"
  },
  "language_info": {
   "codemirror_mode": {
    "name": "ipython",
    "version": 3
   },
   "file_extension": ".py",
   "mimetype": "text/x-python",
   "name": "python",
   "nbconvert_exporter": "python",
   "pygments_lexer": "ipython3",
   "version": "3.7.6"
  }
 },
 "nbformat": 4,
 "nbformat_minor": 4
}
